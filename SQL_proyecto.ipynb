{
  "nbformat": 4,
  "nbformat_minor": 0,
  "metadata": {
    "colab": {
      "provenance": []
    },
    "kernelspec": {
      "name": "python3",
      "display_name": "Python 3"
    },
    "language_info": {
      "name": "python"
    }
  },
  "cells": [
    {
      "cell_type": "code",
      "execution_count": 47,
      "metadata": {
        "id": "QC2axRR0zRys"
      },
      "outputs": [],
      "source": [
        "import sqlite3 as sql\n",
        "import pandas as pd\n"
      ]
    },
    {
      "cell_type": "code",
      "source": [
        "df = pd.read_csv(\"/content/drive/MyDrive/data_app.csv\").drop(columns=\"Unnamed: 0\")"
      ],
      "metadata": {
        "id": "yzicMfbM1CP3"
      },
      "execution_count": 27,
      "outputs": []
    },
    {
      "cell_type": "code",
      "source": [
        "## Funciones\n",
        "def select():\n",
        "  conn = sql.connect('base_app.db')\n",
        "  print(\"Me conecte a la base de datos\")\n",
        "  cursor = conn.cursor()\n",
        "  query = f\"SELECT * FROM registros WHERE app = 'xy' ;\"\n",
        "  cursor.execute(query)\n",
        "  datos = cursor.fetchall()\n",
        "  conn.commit()\n",
        "  print(datos)\n",
        "  conn.close()\n"
      ],
      "metadata": {
        "id": "TO9YuR3UDI_7"
      },
      "execution_count": null,
      "outputs": []
    },
    {
      "cell_type": "markdown",
      "source": [
        "## Creacion BD y Tabla registros"
      ],
      "metadata": {
        "id": "605O9Jly-uGf"
      }
    },
    {
      "cell_type": "code",
      "source": [
        "conn = sql.connect('base_app.db')\n",
        "\n",
        "df.to_sql('registros', conn, if_exists=\"replace\", index= False,)\n",
        "\n",
        "conn.close()"
      ],
      "metadata": {
        "id": "s34uxPyv5Ocl"
      },
      "execution_count": 36,
      "outputs": []
    },
    {
      "cell_type": "markdown",
      "source": [
        "## Verificacion de datos fila 1"
      ],
      "metadata": {
        "id": "9NqwSu-9_VEj"
      }
    },
    {
      "cell_type": "code",
      "source": [
        "conn = sql.connect('base_app.db')\n",
        "print(\"Me conecte a la base de datos\")\n",
        "cursor = conn.cursor()\n",
        "query = f\"SELECT * FROM registros LIMIT 1;\"\n",
        "cursor.execute(query)\n",
        "datos = cursor.fetchall()\n",
        "conn.commit()\n",
        "print(datos)\n",
        "conn.close()"
      ],
      "metadata": {
        "colab": {
          "base_uri": "https://localhost:8080/"
        },
        "id": "rG0GuoGB3B3H",
        "outputId": "e3ba3288-fec0-410b-8444-59d9658da663"
      },
      "execution_count": 37,
      "outputs": [
        {
          "output_type": "stream",
          "name": "stdout",
          "text": [
            "Me conecte a la base de datos\n",
            "[('2021-12-31', '2022-01-01', 'session_start', '2021-12-28 03:05:03.454000128', '87FC257992F041E78061F8F85564EF17', '2021-11-10 15:57:01.778', 'IOS', 2022, '01-Enero', 'mobile', 'Apple', 'americas', 'colombia', 'bogota', 'bogota', 'south america', 'br')]\n"
          ]
        }
      ]
    },
    {
      "cell_type": "markdown",
      "source": [
        "## Insert nuevo registro"
      ],
      "metadata": {
        "id": "PgOtnD1TDZSY"
      }
    },
    {
      "cell_type": "code",
      "source": [
        "def insertRows(lista):\n",
        "  conn = sql.connect(\"base_app.db\")\n",
        "  cursor = conn.cursor()\n",
        "  query = f\"INSERT INTO registros VALUES ( ?, ?, ?, ?, ?, ?, ?, ?, ?, ?, ?, ?, ?, ?, ?, ?, ?);\"\n",
        "  cursor.executemany(query, lista)\n",
        "  conn.commit()\n",
        "  conn.close()\n",
        "  print(\"Agregue una fila de registros\")\n",
        "\n",
        "nuevo_registro = [('2021-12-31', '2022-01-01', 'session_start', '2021-12-28 03:05:03.454000128', '87FC257992F041E78061F8F85564EF17', '2021-11-10 15:57:01.778', 'IOS', 2022, '01-Enero', 'mobile', 'Apple', 'americas', 'colombia', 'bogota', 'bogota', 'south america', 'xy')]\n",
        "insertRows(lista=nuevo_registro)"
      ],
      "metadata": {
        "colab": {
          "base_uri": "https://localhost:8080/"
        },
        "id": "1imyS3sH_OFE",
        "outputId": "f8c9737c-ec8a-46b6-a497-59928a429c4c"
      },
      "execution_count": 38,
      "outputs": [
        {
          "output_type": "stream",
          "name": "stdout",
          "text": [
            "Agregue una fila de registros\n"
          ]
        }
      ]
    },
    {
      "cell_type": "code",
      "source": [
        "select()"
      ],
      "metadata": {
        "colab": {
          "base_uri": "https://localhost:8080/"
        },
        "id": "YnJGIR6uAhQ4",
        "outputId": "b91702a2-2b34-4bf3-cec2-f48d746bea8f"
      },
      "execution_count": 40,
      "outputs": [
        {
          "output_type": "stream",
          "name": "stdout",
          "text": [
            "Me conecte a la base de datos\n",
            "[('2021-12-31', '2022-01-01', 'session_start', '2021-12-28 03:05:03.454000128', '87FC257992F041E78061F8F85564EF17', '2021-11-10 15:57:01.778', 'IOS', 2022, '01-Enero', 'mobile', 'Apple', 'americas', 'colombia', 'bogota', 'bogota', 'south america', 'xy')]\n"
          ]
        }
      ]
    },
    {
      "cell_type": "markdown",
      "source": [
        "## Actualizar un registro"
      ],
      "metadata": {
        "id": "l6tlu9z4D5DR"
      }
    },
    {
      "cell_type": "code",
      "source": [
        "def updateflied():\n",
        "  conn = sql.connect(\"base_app.db\")\n",
        "  cursor = conn.cursor()\n",
        "  query = f\"UPDATE registros SET event_name = 'nuevo evento' WHERE app = 'xy';\"\n",
        "  cursor.execute(query)\n",
        "  conn.commit()\n",
        "  conn.close()\n",
        "  print('Actualice un registro')\n",
        "\n",
        "updateflied()\n",
        "select()"
      ],
      "metadata": {
        "colab": {
          "base_uri": "https://localhost:8080/"
        },
        "id": "EMwDqAcTBCM7",
        "outputId": "86e3ca74-68f4-4e9e-e6d4-885597d6acb3"
      },
      "execution_count": 41,
      "outputs": [
        {
          "output_type": "stream",
          "name": "stdout",
          "text": [
            "Actualice un registro\n",
            "Me conecte a la base de datos\n",
            "[('2021-12-31', '2022-01-01', 'nuevo evento', '2021-12-28 03:05:03.454000128', '87FC257992F041E78061F8F85564EF17', '2021-11-10 15:57:01.778', 'IOS', 2022, '01-Enero', 'mobile', 'Apple', 'americas', 'colombia', 'bogota', 'bogota', 'south america', 'xy')]\n"
          ]
        }
      ]
    },
    {
      "cell_type": "markdown",
      "source": [
        "## Borrar un registro"
      ],
      "metadata": {
        "id": "3qXJUOLhED7y"
      }
    },
    {
      "cell_type": "code",
      "source": [
        "def delete():\n",
        "  conn = sql.connect(\"base_app.db\")\n",
        "  cursor = conn.cursor()\n",
        "  query = f\"DELETE FROM registros WHERE app = 'xy';\"\n",
        "  cursor.execute(query)\n",
        "  conn.commit()\n",
        "  conn.close()\n",
        "  print('Elimine un registro')\n",
        "\n",
        "delete()\n",
        "select()"
      ],
      "metadata": {
        "colab": {
          "base_uri": "https://localhost:8080/"
        },
        "id": "lD2z55PQDBqi",
        "outputId": "e9475334-4847-47c7-a3d1-7fc1da4b359d"
      },
      "execution_count": 46,
      "outputs": [
        {
          "output_type": "stream",
          "name": "stdout",
          "text": [
            "Elimine un registro\n",
            "Me conecte a la base de datos\n",
            "[]\n"
          ]
        }
      ]
    }
  ]
}